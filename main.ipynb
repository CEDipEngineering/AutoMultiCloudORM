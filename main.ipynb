{
 "cells": [
  {
   "cell_type": "code",
   "execution_count": 31,
   "source": [
    "import boto3\r\n",
    "from botocore.config import Config\r\n",
    "import os\r\n",
    "import time\r\n"
   ],
   "outputs": [],
   "metadata": {}
  },
  {
   "cell_type": "code",
   "execution_count": 25,
   "source": [
    "# Could put credentials here, but is not safe\r\n",
    "# Put in home directory $HOME/.aws/credentials\r\n",
    "North_Virginia_EC2 = Config(region_name=\"us-east-1\") # Define region (default is us-east-1)\r\n",
    "NV_EC2 = boto3.client('ec2', config=North_Virginia_EC2) # make ec2 client"
   ],
   "outputs": [],
   "metadata": {}
  },
  {
   "cell_type": "code",
   "execution_count": 43,
   "source": [
    "# Criar instância usando imagem AMI customizada\r\n",
    "# (Criar máquina na mão, e configura-la, depois salvar imagem para usar aqui)\r\n",
    "# Precisa ver como a máquina precisa de configurar o sec.group e passar o sec.group aqui\r\n",
    "POSTGRES_AMI_ID = \"ami-062339edf6f2e8b89\"\r\n",
    "POSTGRES_SECURITY_GROUP_ID = \"sg-0ba0c4e57212c6ff0\"\r\n",
    "\r\n",
    "def offer_delete_db(client):\r\n",
    "    filter=[\r\n",
    "        {\r\n",
    "            'Name': 'tag:DIP_AUTOMATION_BOTO',\r\n",
    "            'Values': [\r\n",
    "                'True',\r\n",
    "            ]\r\n",
    "        },\r\n",
    "    ]\r\n",
    "    current_machines = client.describe_instances(Filters=filter)\r\n",
    "    ids = []\r\n",
    "    for i in current_machines[\"Reservations\"]:\r\n",
    "        print(f\"id encontrado: { i['Instances'][0]['InstanceId'] }\")\r\n",
    "        ids.append(i[\"Instances\"][0][\"InstanceId\"])\r\n",
    "    if len(ids) != 0:\r\n",
    "        print(\"You seem to already have instances running this AMI, would you like to delete them? (y/n)\")\r\n",
    "        a = input()\r\n",
    "        if a.strip().lower() not in [\"y\", \"yes\", \"\"]:\r\n",
    "            print(\"Aborting...\")\r\n",
    "            return 1\r\n",
    "    delete = client.terminate_instances(InstanceIds=ids)\r\n",
    "    return 0\r\n",
    "\r\n",
    "def create_db(client, ami, sec_group):\r\n",
    "    \r\n",
    "    # Apaga pre-existentes\r\n",
    "    if offer_delete_db(client):\r\n",
    "        return\r\n",
    "\r\n",
    "    response = client.run_instances(\r\n",
    "    BlockDeviceMappings=[{\r\n",
    "                'DeviceName': '/dev/xvda',\r\n",
    "                'Ebs': {\r\n",
    "                    'DeleteOnTermination': False,\r\n",
    "                    'VolumeSize': 240,\r\n",
    "                    'VolumeType': 'gp2'\r\n",
    "                },\r\n",
    "            },\r\n",
    "    ],\r\n",
    "    ImageId=ami,\r\n",
    "    InstanceType='t2.medium',\r\n",
    "    MaxCount=1,\r\n",
    "    MinCount=1,\r\n",
    "    Monitoring={\r\n",
    "        'Enabled': False\r\n",
    "    },\r\n",
    "    SecurityGroupIds=[\r\n",
    "        sec_group,\r\n",
    "    ],\r\n",
    "    TagSpecifications=[\r\n",
    "        {\r\n",
    "            'ResourceType': 'instance',\r\n",
    "            'Tags': [\r\n",
    "                {\r\n",
    "                    'Key': 'DIP_AUTOMATION_BOTO',\r\n",
    "                    'Value': 'True',\r\n",
    "                },\r\n",
    "                {\r\n",
    "                    'Key': 'Name',\r\n",
    "                    'Value': 'postgres-db',\r\n",
    "                },\r\n",
    "            ],\r\n",
    "        },\r\n",
    "    ],)\r\n",
    "    instanceID = response[\"Instances\"][0][\"InstanceId\"]\r\n",
    "    # Await creation\r\n",
    "    running = False\r\n",
    "    while not running:\r\n",
    "        status = client.describe_instances(InstanceIds=[instanceID])[\"Reservations\"][0][\"Instances\"][0][\"State\"]\r\n",
    "        running = (status[\"Name\"] == 'running')\r\n",
    "        time.sleep(0.2) # No need to spam\r\n",
    "    # Assign Elastic IP\r\n",
    "    allocationID = \"eipalloc-0303aad0424188ba3\" # Elastic Static IP: 3.210.8.204\r\n",
    "    response = NV_EC2.associate_address(AllocationId=allocationID, InstanceId=instanceID)\r\n",
    "    return\r\n"
   ],
   "outputs": [],
   "metadata": {}
  },
  {
   "cell_type": "code",
   "execution_count": 15,
   "source": [
    "Ohio_EC2 = Config(region_name=\"us-east-1\") # Define region 2\r\n",
    "O_EC2 = boto3.client('ec2', config=Ohio_EC2) # make ec2 client"
   ],
   "outputs": [],
   "metadata": {}
  },
  {
   "cell_type": "code",
   "execution_count": 16,
   "source": [
    "DJANGO_LAUNCH_TEMPLATE_ID = \"lt-0fbce85036a0bc068\"\r\n",
    "# DJANGO_AMI_ID = \"ami-0f44416378e6304c7\"\r\n",
    "# DJANGO_SECURITY_GROUP_ID = \"sg-05af7ec23322811ef\"\r\n",
    "LOAD_BALANCER_ELASTIC_IP_ID = \"eipalloc-01534ba1f309a7991\"\r\n",
    "\r\n",
    "# Criar instância do ORM direitinho na mão,\r\n",
    "# salvar imagem e usar ela + sec.group aqui.\r\n",
    "# Isso precisa ser em outra cloud, por isso us-east-1\r\n",
    "# def create_orm_instance(client, ami, sec_group):\r\n",
    "#     pass\r\n",
    "\r\n",
    "def create_load_balancer(client, ):\r\n",
    "    response = client.create_load_balancer(\r\n",
    "        AvailabilityZones=[\r\n",
    "            'us-east-1','us-east-2',\r\n",
    "        ],\r\n",
    "        Listeners=[\r\n",
    "            {\r\n",
    "                'InstancePort': 8080,\r\n",
    "                'InstanceProtocol': 'HTTP',\r\n",
    "                'LoadBalancerPort': 80,\r\n",
    "                'Protocol': 'HTTP',\r\n",
    "            },\r\n",
    "        ],\r\n",
    "        LoadBalancerName='django-load-balancer',)\r\n",
    "    return\r\n"
   ],
   "outputs": [],
   "metadata": {}
  },
  {
   "cell_type": "code",
   "execution_count": 36,
   "source": [
    "create_db(NV_EC2, POSTGRES_AMI_ID, POSTGRES_SECURITY_GROUP_ID)"
   ],
   "outputs": [
    {
     "output_type": "stream",
     "name": "stdout",
     "text": [
      "You seem to already have instances running this AMI, would you like to delete them? (y/n)\n"
     ]
    }
   ],
   "metadata": {}
  },
  {
   "cell_type": "code",
   "execution_count": 44,
   "source": [
    "def cleanup(client, client_2):\r\n",
    "    offer_delete_db(client)\r\n",
    "\r\n",
    "cleanup(NV_EC2, None)"
   ],
   "outputs": [
    {
     "output_type": "stream",
     "name": "stdout",
     "text": [
      "id encontrado: i-0756905ef83c743ec\n",
      "You seem to already have instances running this AMI, would you like to delete them? (y/n)\n"
     ]
    }
   ],
   "metadata": {}
  }
 ],
 "metadata": {
  "orig_nbformat": 4,
  "language_info": {
   "name": "python",
   "version": "3.8.3",
   "mimetype": "text/x-python",
   "codemirror_mode": {
    "name": "ipython",
    "version": 3
   },
   "pygments_lexer": "ipython3",
   "nbconvert_exporter": "python",
   "file_extension": ".py"
  },
  "kernelspec": {
   "name": "python3",
   "display_name": "Python 3.8.3 64-bit ('base': conda)"
  },
  "interpreter": {
   "hash": "b3ba2566441a7c06988d0923437866b63cedc61552a5af99d1f4fb67d367b25f"
  }
 },
 "nbformat": 4,
 "nbformat_minor": 2
}